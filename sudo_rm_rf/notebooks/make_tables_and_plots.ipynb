{
 "cells": [
  {
   "cell_type": "code",
   "execution_count": null,
   "metadata": {},
   "outputs": [],
   "source": [
    "import os, sys \n",
    "import torch \n",
    "import datetime\n",
    "from pprint import pprint\n",
    "import matplotlib.pyplot as plt\n",
    "import numpy as np\n",
    "from pprint import pprint\n",
    "import IPython.display as ipd\n",
    "from argparse import Namespace\n",
    "import torch.nn as nn \n",
    "import torch.nn.functional as F\n",
    "import librosa\n",
    "import argparse\n",
    "import scipy \n",
    "from IPython.display import Audio\n",
    "import numpy as np\n",
    "from matplotlib.pyplot import cm\n",
    "from tqdm import tqdm\n",
    "import time\n",
    "import comet_ml\n",
    "from pprint import pprint\n",
    "\n",
    "sys.path.append(\"../../\")\n",
    "from __config__ import *\n",
    "import attentional_control.dnn.models.demucs as demucs_m\n",
    "import attentional_control.dnn.models.dprnn as dprnn_m\n",
    "import attentional_control.dnn.models.original_convtasnet as original_convtasnet_m\n",
    "import attentional_control.dnn.models.eetp_tdcn as eetp_tdcn_m\n",
    "import attentional_control.dnn.models.simplified_tasnet as two_step_m\n",
    "import attentional_control.dnn.losses.sisdr as sisdr_lib\n",
    "import attentional_control.utils.performance_results_parser as system_results_parser\n",
    "system_local_results_path = '/home/thymios/projects/attentional_control/performance_outputs'\n",
    "\n",
    "os.environ['CUDA_VISIBLE_DEVICES'] = '0'\n",
    "torch.cuda.empty_cache()"
   ]
  },
  {
   "cell_type": "code",
   "execution_count": null,
   "metadata": {},
   "outputs": [],
   "source": [
    "# Gather the experiment runs from the cometml experiments by calling the apiabs\n",
    "project_api = comet_ml.API(api_key=API_KEY)\n",
    "wsj_exp = 'wsj-all'\n",
    "esc50_exp = 'esc50-all'\n",
    "username_comet = 'etzinis'\n",
    "exp_dict = {'wsj': {'exp_name': wsj_exp}, 'esc50': {'exp_name': esc50_exp}}"
   ]
  },
  {
   "cell_type": "code",
   "execution_count": null,
   "metadata": {},
   "outputs": [],
   "source": [
    "# Gather all appropriate data from the comet_ml experiments\n",
    "val_metric_name = 'validate_SISDRi_mean'\n",
    "performance_metric = 'sys.gpu.0.gpu_utilization'\n",
    "results_dict = dict([(dataset, {}) for dataset in exp_dict.keys()])\n",
    "\n",
    "for dataset in exp_dict.keys():\n",
    "    this_experiments = project_api.get(username_comet, exp_dict[dataset]['exp_name'])\n",
    "    for comet_exp in this_experiments:\n",
    "        comet_id = comet_exp.id\n",
    "        exp_data = project_api.get(username_comet, exp_dict[dataset]['exp_name'], comet_id)\n",
    "        this_name = exp_data.name\n",
    "        this_id = exp_data.id\n",
    "        this_small_id = exp_data.id[:4]\n",
    "        this_val_metric = exp_data.get_metrics(val_metric_name)\n",
    "\n",
    "#         this_perf_metric = exp_data.get_metrics(performance_metric)\n",
    "#         perf_metric_list = [float(x['metricValue']) for x in this_perf_metric]\n",
    "#         print(this_name, np.array(perf_metric_list).mean())\n",
    "        \n",
    "        metric_list = [float(x['metricValue']) for x in this_val_metric]\n",
    "        results_dict[dataset][this_id] = {'name': this_name, 'small_id': this_small_id,\n",
    "                                          val_metric_name: np.array(metric_list)}\n"
   ]
  },
  {
   "cell_type": "code",
   "execution_count": null,
   "metadata": {},
   "outputs": [],
   "source": [
    "# Create the appropriate table\n",
    "running_up_to_n_epochs = 120\n",
    "\n",
    "for dataset in results_dict.keys():\n",
    "    print(dataset)\n",
    "    for id_c, data in results_dict[dataset].items():\n",
    "        val_metric_data = data[val_metric_name][:running_up_to_n_epochs]\n",
    "        try:\n",
    "            print(data['name'], val_metric_data.max(),\n",
    "                  np.argmax(val_metric_data), data[val_metric_name].shape)\n",
    "        except Exception as e:\n",
    "            print('Error with: {}'.format(data['name']))"
   ]
  },
  {
   "cell_type": "code",
   "execution_count": null,
   "metadata": {},
   "outputs": [],
   "source": [
    "print_names_dict = {\n",
    "    'demucs': ['demucs'],\n",
    "    'DPRNN': ['dprnn'],\n",
    "    'ConvTasNet': ['convtasnet'],\n",
    "    'Sudo rm -rf 1.0': ['eetdcn_L21_H512_B128_X5_R16', 'eetdcn_L21_B128_N512_X5_R16', 'sudormrf'],\n",
    "    'Sudo rm -rf 0.5': ['eetdcn_L21_H512_B128_X5_R8', 'eetdcn_L21_B128_N512_X5_R8', 'sudormrf'],\n",
    "    'Sudo rm -rf 0.25': ['eetdcn_L21_H512_B128_X5_R4', 'eetdcn_L21_B128_N512_X5_R4', 'sudormrf'],\n",
    "#     'EETDCN small': ['eetdcn', 'R8'],\n",
    "    'Two-Step TDCN': ['spectra', 'mask', 'twostep']\n",
    "}"
   ]
  },
  {
   "cell_type": "code",
   "execution_count": null,
   "metadata": {},
   "outputs": [],
   "source": [
    "# Gather the best perofrming experiments\n",
    "def get_metric_data(results_dict, dataset='wsj', keywords=[],\n",
    "                    keep_only='max'):\n",
    "    possible_data = []\n",
    "    for id_c, data in results_dict[dataset].items():\n",
    "        for key in keywords:\n",
    "            if key in data['name']:\n",
    "                possible_data.append(data[val_metric_name])\n",
    "                break\n",
    "                \n",
    "    if not possible_data:\n",
    "        print('Error with keywords: {}'.format(keywords))\n",
    "        return np.array([0., 0.])\n",
    "    else:\n",
    "        if keep_only == 'max':\n",
    "            possible_data = [p for p in possible_data if len(p)>1]\n",
    "            s_possible = sorted(possible_data, key=lambda x: x.max())[-1]\n",
    "            return s_possible"
   ]
  },
  {
   "cell_type": "code",
   "execution_count": null,
   "metadata": {},
   "outputs": [],
   "source": [
    "for model_name, keywords in print_names_dict.items():\n",
    "    for dataset in results_dict.keys():\n",
    "        possible_data =  get_metric_data(results_dict, dataset=dataset, keywords=keywords, keep_only='max')\n",
    "        print(model_name, dataset, possible_data.max())"
   ]
  },
  {
   "cell_type": "code",
   "execution_count": null,
   "metadata": {},
   "outputs": [],
   "source": [
    "pprint(results_dict)"
   ]
  },
  {
   "cell_type": "code",
   "execution_count": null,
   "metadata": {},
   "outputs": [],
   "source": [
    "# Parse system results form local runs\n",
    "system_results_dic = system_results_parser.gather_results_for_available_models(system_local_results_path)\n",
    "# Update the final results dictionary for all models\n",
    "final_dict = dict([(p, {}) for p in print_names_dict])\n",
    "for model_name, keywords in print_names_dict.items():\n",
    "    for dataset in results_dict.keys():\n",
    "        possible_data =  get_metric_data(results_dict, dataset=dataset,\n",
    "                                         keywords=keywords,\n",
    "                                         keep_only='max')\n",
    "        final_dict[model_name][dataset + ' SISDRi'] = possible_data\n",
    "        \n",
    "        # find the appropriate naming in the system results dictionary\n",
    "        found = False\n",
    "        for system_name, system_info in system_results_dic.items():\n",
    "            for k in keywords:\n",
    "                if k in system_name:\n",
    "                    found=True\n",
    "                    break\n",
    "            if found:\n",
    "                final_dict[model_name].update(system_info)\n",
    "                    \n",
    "pprint(final_dict)"
   ]
  },
  {
   "cell_type": "code",
   "execution_count": null,
   "metadata": {},
   "outputs": [],
   "source": []
  }
 ],
 "metadata": {
  "kernelspec": {
   "display_name": "Python 3",
   "language": "python",
   "name": "python3"
  },
  "language_info": {
   "codemirror_mode": {
    "name": "ipython",
    "version": 3
   },
   "file_extension": ".py",
   "mimetype": "text/x-python",
   "name": "python",
   "nbconvert_exporter": "python",
   "pygments_lexer": "ipython3",
   "version": "3.6.10"
  }
 },
 "nbformat": 4,
 "nbformat_minor": 2
}
